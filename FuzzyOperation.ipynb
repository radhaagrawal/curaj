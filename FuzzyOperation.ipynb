{
 "cells": [
  {
   "cell_type": "code",
   "execution_count": 14,
   "metadata": {},
   "outputs": [
    {
     "name": "stdout",
     "output_type": "stream",
     "text": [
      "Addition of Two sets {'gfg': 0.6399999999999999, 'is': 0.76, 'best': 0.73}\n"
     ]
    }
   ],
   "source": [
    "#addition of two set\n",
    "\n",
    "from collections import Counter \n",
    "test_dict1 = {'gfg' : 0.6, 'is' : 0.4, 'best' : 0.7} \n",
    "test_dict2 = {'gfg' : 0.1, 'is' : 0.6, 'best' : 0.1} \n",
    "  \n",
    "temp1 = Counter(test_dict1) \n",
    "temp2 = Counter(test_dict2) \n",
    "res = Counter({key : temp1[key] * temp2[key] for key in temp1})\n",
    "\n",
    "z = dict(Counter(test_dict1)+Counter(test_dict2))\n",
    "\n",
    "add=dict(Counter(z)-Counter(res))\n",
    "print('Addition of Two sets',add)"
   ]
  },
  {
   "cell_type": "code",
   "execution_count": 16,
   "metadata": {},
   "outputs": [
    {
     "name": "stdout",
     "output_type": "stream",
     "text": [
      "Union of Two Sets {'test1': 90, 'test2': 45, 'test3': 82, 'test4': 100}\n"
     ]
    }
   ],
   "source": [
    "#Union of two set\n",
    "a={\"test1\":90, \"test2\":45, \"test3\":67, \"test4\":74} \n",
    "b={\"test1\":32, \"test2\":45, \"test3\":82, \"test4\":100}\n",
    "c={ k:max(a[k],b[k]) for k in a if b.get(k,'')}\n",
    "print('Union of Two Sets',c)"
   ]
  },
  {
   "cell_type": "code",
   "execution_count": 17,
   "metadata": {},
   "outputs": [
    {
     "name": "stdout",
     "output_type": "stream",
     "text": [
      "Intersection of two Sets {'test1': 32, 'test2': 45, 'test3': 67, 'test4': 74}\n"
     ]
    }
   ],
   "source": [
    "#Intersection of two set\n",
    "a={\"test1\":90, \"test2\":45, \"test3\":67, \"test4\":74} \n",
    "b={\"test1\":32, \"test2\":45, \"test3\":82, \"test4\":100}\n",
    "c={ k:min(a[k],b[k]) for k in a if b.get(k,'')}\n",
    "print('Intersection of two Sets',c)"
   ]
  },
  {
   "cell_type": "code",
   "execution_count": 2,
   "metadata": {},
   "outputs": [
    {
     "name": "stdout",
     "output_type": "stream",
     "text": [
      "Enter element of FuzzySet A with commas1,2,3\n",
      "Enter Membership value FuzzySet A with commas.1,.2,.3\n",
      "Enter element FuzzySet B with commas1,2,3\n",
      "Enter membership value FuzzySet B with commas.4,.5,.6\n",
      "Complement of A: [(1, 0.9), (2, 0.8), (3, 0.7)]\n",
      "Complement of B: [(1, 0.6), (2, 0.5), (3, 0.4)]\n",
      "None\n"
     ]
    }
   ],
   "source": [
    "#Complement of a set\n",
    "def getFuzzySet():\n",
    "    set_A = list(map(int,input(\"Enter element of FuzzySet A with commas\").split(\",\")))\n",
    "    member_A = list(map(float,input(\"Enter Membership value of FuzzySet A with commas\").split(\",\")))\n",
    "    set_B = list(map(int,input(\"Enter element FuzzySet B with commas\").split(\",\")))\n",
    "    member_B = list(map(float,input(\"Enter membership value of FuzzySet B with commas\").split(\",\")))\n",
    "    A = [[x,y] for x,y in zip(set_A,member_A)]\n",
    "    B = [[x,y] for x,y in zip(set_B,member_B)]\n",
    "    return A,B\n",
    "\n",
    "\n",
    "\n",
    "def complement():\n",
    "    A,B = getFuzzySet() \n",
    "    R = list()\n",
    "    S = list()\n",
    "    for x,y in zip(A,B):\n",
    "        R.append((x[0],1-x[1]))\n",
    "        S.append((y[0],1-y[1]))\n",
    "    print(\"Complement of R:\",R)\n",
    "    print(\"Complement of S:\",S)\n",
    "\n",
    "print(complement())"
   ]
  },
  {
   "cell_type": "code",
   "execution_count": 8,
   "metadata": {},
   "outputs": [
    {
     "name": "stdout",
     "output_type": "stream",
     "text": [
      "Enter element of FuzzySet A with commas1,2,3,4\n",
      "Enter Membership value of FuzzySet A with commas.1,.2,.3,.4\n",
      "Enter element FuzzySet B with commas1,2,3,4\n",
      "Enter membership value of FuzzySet B with commas.1,.3,.5,.4\n",
      "Complement of B: [(1, 0.9), (2, 0.7), (3, 0.5), (4, 0.6)]\n",
      "Difference of A - B_: [[1, 0.1], [2, 0.2], [3, 0.3], [4, 0.4]]\n",
      "None\n"
     ]
    }
   ],
   "source": [
    "#Difference of two set\n",
    "def getFuzzySet():\n",
    "    set_A = list(map(int,input(\"Enter element of FuzzySet A with commas\").split(\",\")))\n",
    "    member_A = list(map(float,input(\"Enter Membership value of FuzzySet A with commas\").split(\",\")))\n",
    "    set_B = list(map(int,input(\"Enter element FuzzySet B with commas\").split(\",\")))\n",
    "    member_B = list(map(float,input(\"Enter membership value of FuzzySet B with commas\").split(\",\")))\n",
    "    A = [[x,y] for x,y in zip(set_A,member_A)]\n",
    "    B = [[x,y] for x,y in zip(set_B,member_B)]\n",
    "    return A,B\n",
    "\n",
    "def Difference_():\n",
    "    A,B = getFuzzySet() \n",
    "    R = list()\n",
    "    S = list()\n",
    "    for x,y in zip(A,B):\n",
    "        #A_.append((x[0],1-x[1]))\n",
    "        S.append((y[0],1-y[1]))\n",
    "    print(\"Complement of B:\",S)\n",
    "    A_S = list()\n",
    "    for x,y in zip(A,S):\n",
    "        if x[0] == y[0]:\n",
    "            \n",
    "            x[1]=min(x[1],y[1])\n",
    "            A_S.append(x)\n",
    "        else:\n",
    "            x[1],y[1]=0\n",
    "            A_S.extend([x,y])\n",
    "    print(\"Difference of A - S:\",A_S)\n",
    "\n",
    "\n",
    "print(Difference_())"
   ]
  },
  {
   "cell_type": "code",
   "execution_count": 2,
   "metadata": {},
   "outputs": [
    {
     "name": "stdout",
     "output_type": "stream",
     "text": [
      "Enter element of FuzzySet A with commas1,2,3\n",
      "Enter Membership value of FuzzySet A with commas.2,.3,.5\n",
      "Enter element FuzzySet B with commas1,2,3\n",
      "Enter membership value of FuzzySet B with commas.8,.6,.3\n",
      "\n",
      "\n",
      "AXB [[(1, 1), 0.2], [(1, 2), 0.2], [(1, 3), 0.2], [(2, 1), 0.3], [(2, 2), 0.3], [(2, 3), 0.3], [(3, 1), 0.5], [(3, 2), 0.5], [(3, 3), 0.3]]\n",
      "None\n"
     ]
    }
   ],
   "source": [
    "#Cartesian Product of Two Fuzzy set\n",
    "def getFuzzySet():\n",
    "    set_A = list(map(int,input(\"Enter element of FuzzySet A with commas\").split(\",\")))\n",
    "    member_A = list(map(float,input(\"Enter Membership value of FuzzySet A with commas\").split(\",\")))\n",
    "    set_B = list(map(int,input(\"Enter element FuzzySet B with commas\").split(\",\")))\n",
    "    member_B = list(map(float,input(\"Enter membership value of FuzzySet B with commas\").split(\",\")))\n",
    "    A = [[x,y] for x,y in zip(set_A,member_A)]\n",
    "    B = [[x,y] for x,y in zip(set_B,member_B)]\n",
    "    return A,B\n",
    "def cartesianProduct():\n",
    "    A,B = getFuzzySet() \n",
    "    A_B=[[(x[0],y[0]),min(x[1],y[1])] for x in A for y in B]\n",
    "    print(\"\\n\\nAXB\",A_B)\n",
    "print(cartesianProduct())"
   ]
  },
  {
   "cell_type": "code",
   "execution_count": null,
   "metadata": {},
   "outputs": [],
   "source": []
  }
 ],
 "metadata": {
  "kernelspec": {
   "display_name": "Python 3",
   "language": "python",
   "name": "python3"
  },
  "language_info": {
   "codemirror_mode": {
    "name": "ipython",
    "version": 3
   },
   "file_extension": ".py",
   "mimetype": "text/x-python",
   "name": "python",
   "nbconvert_exporter": "python",
   "pygments_lexer": "ipython3",
   "version": "3.8.5"
  }
 },
 "nbformat": 4,
 "nbformat_minor": 4
}
